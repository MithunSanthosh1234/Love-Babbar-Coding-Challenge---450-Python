{
  "nbformat": 4,
  "nbformat_minor": 0,
  "metadata": {
    "colab": {
      "name": "Coding Practices.ipynb",
      "provenance": [],
      "collapsed_sections": [],
      "authorship_tag": "ABX9TyMD2eKV6NeEKGWQCmxOx+tf",
      "include_colab_link": true
    },
    "kernelspec": {
      "name": "python3",
      "display_name": "Python 3"
    },
    "language_info": {
      "name": "python"
    }
  },
  "cells": [
    {
      "cell_type": "markdown",
      "metadata": {
        "id": "view-in-github",
        "colab_type": "text"
      },
      "source": [
        "<a href=\"https://colab.research.google.com/github/MithunSanthosh1234/Love-Babbar-Coding-Challenge---450-Python/blob/main/Coding_Practices.ipynb\" target=\"_parent\"><img src=\"https://colab.research.google.com/assets/colab-badge.svg\" alt=\"Open In Colab\"/></a>"
      ]
    },
    {
      "cell_type": "code",
      "metadata": {
        "colab": {
          "base_uri": "https://localhost:8080/"
        },
        "id": "5MIpvQL8sgZU",
        "outputId": "61d02598-0a97-4dd6-8134-dd8bb77bfd23"
      },
      "source": [
        "#1.GCD of 2 nos:\n",
        "def gcd(a,b):\n",
        "  if (a==0):\n",
        "    return b\n",
        "  elif b==0:\n",
        "    return a\n",
        "  elif a==b:\n",
        "    return a\n",
        "  if (a>b):\n",
        "    return gcd(a-b,b)\n",
        "  return gcd(a,b-a)\n",
        "\n",
        "\n",
        "print(\"GCD OF 98 and 56:\",gcd(98,56))"
      ],
      "execution_count": null,
      "outputs": [
        {
          "output_type": "stream",
          "text": [
            "GCD OF 98 and 56: 14\n"
          ],
          "name": "stdout"
        }
      ]
    },
    {
      "cell_type": "code",
      "metadata": {
        "colab": {
          "base_uri": "https://localhost:8080/"
        },
        "id": "4TkI7f_-shxS",
        "outputId": "3183a23b-2038-4f6d-d06f-35e4d7f86153"
      },
      "source": [
        "#2.factorial of a given number:\n",
        "\n",
        "def fact(num):\n",
        "  if num<0:\n",
        "    return 0\n",
        "  elif num==1 or num==0:\n",
        "    return 1\n",
        "  else:\n",
        "    return num*fact(num-1)\n",
        "\n",
        "\n",
        "num=int(input())\n",
        "\n",
        "print(\"The factorial of\",num,\"is:\",fact(num))\n"
      ],
      "execution_count": null,
      "outputs": [
        {
          "output_type": "stream",
          "text": [
            "5\n",
            "The factorial of 5 is: 120\n"
          ],
          "name": "stdout"
        }
      ]
    },
    {
      "cell_type": "code",
      "metadata": {
        "colab": {
          "base_uri": "https://localhost:8080/"
        },
        "id": "hzANaLZexxlj",
        "outputId": "dffac59c-9009-4ac1-b02c-eacf1ee8602c"
      },
      "source": [
        "#3.fibonacci series:\n",
        "\n",
        "def fibi(num):\n",
        "  if num<=1:\n",
        "    return num\n",
        "  else:\n",
        "    return (fibi(num-1)+fibi(num-2))\n",
        "\n",
        "num=int(input())\n",
        "print(\"Number of terms\",fibi(num))\n",
        "\n",
        "for i in range(num+1):\n",
        "  print(fibi(i))\n"
      ],
      "execution_count": null,
      "outputs": [
        {
          "output_type": "stream",
          "text": [
            "5\n",
            "Number of terms 5\n",
            "0\n",
            "1\n",
            "1\n",
            "2\n",
            "3\n",
            "5\n"
          ],
          "name": "stdout"
        }
      ]
    },
    {
      "cell_type": "code",
      "metadata": {
        "colab": {
          "base_uri": "https://localhost:8080/"
        },
        "id": "xHT_D2uwy44z",
        "outputId": "426f40a2-44cc-4d80-fbcb-e6db23044c17"
      },
      "source": [
        "#4.sum of digits\n",
        "\n",
        "num=int(input())\n",
        "sum=0\n",
        "while(num>0):\n",
        "  sum=sum+(num%10)\n",
        "  num=num//10\n",
        "\n",
        "print(sum)"
      ],
      "execution_count": null,
      "outputs": [
        {
          "output_type": "stream",
          "text": [
            "17893245\n",
            "39\n"
          ],
          "name": "stdout"
        }
      ]
    },
    {
      "cell_type": "code",
      "metadata": {
        "colab": {
          "base_uri": "https://localhost:8080/"
        },
        "id": "k5eG-RfB1hSU",
        "outputId": "39227ced-3275-4c38-b5a4-e70b886f7a54"
      },
      "source": [
        "#5.number palindrome\n",
        "\n",
        "num=int(input())\n",
        "temp=num\n",
        "rev=0\n",
        "\n",
        "while (num!=0):\n",
        "  rev=(rev*10)+(num%10)\n",
        "  num=num//10\n",
        "\n",
        "\n",
        "if(temp==rev):\n",
        "  print(\"Its a Number palindrome\")\n",
        "else:\n",
        "  print(\"Not a palindrome\")\n"
      ],
      "execution_count": null,
      "outputs": [
        {
          "output_type": "stream",
          "text": [
            "121\n",
            "Its a Number palindrome\n"
          ],
          "name": "stdout"
        }
      ]
    },
    {
      "cell_type": "code",
      "metadata": {
        "colab": {
          "base_uri": "https://localhost:8080/"
        },
        "id": "fCjBxg623Wp7",
        "outputId": "71b2dab6-5530-4603-bb31-4087ede0cbf6"
      },
      "source": [
        "#6.string palindrome1\n",
        "\n",
        "str=input()\n",
        "str1=str\n",
        "reversed(str)\n",
        "\n",
        "if(str1==str):\n",
        "  print(\"Palindrome\")\n",
        "else:\n",
        "  print(\"Not palindrome\")"
      ],
      "execution_count": null,
      "outputs": [
        {
          "output_type": "stream",
          "text": [
            "mom\n",
            "Palindrome\n"
          ],
          "name": "stdout"
        }
      ]
    },
    {
      "cell_type": "code",
      "metadata": {
        "colab": {
          "base_uri": "https://localhost:8080/"
        },
        "id": "9VXlO24v4Ywi",
        "outputId": "56d8781f-c5ad-4d8e-902e-a9e5f841601e"
      },
      "source": [
        "#7.string palindrome\n",
        "\n",
        "str=input()\n",
        "\n",
        "rev=str[::-1]\n",
        "\n",
        "if(rev==str):\n",
        "  print(\"Palindrome\")\n",
        "else:\n",
        "  print(\"Not Palindrome\")"
      ],
      "execution_count": null,
      "outputs": [
        {
          "output_type": "stream",
          "text": [
            "malayalam\n",
            "Palindrome\n"
          ],
          "name": "stdout"
        }
      ]
    },
    {
      "cell_type": "code",
      "metadata": {
        "colab": {
          "base_uri": "https://localhost:8080/"
        },
        "id": "btoJ8foT45Mr",
        "outputId": "3e024fa3-416e-45bb-e20e-597992c328c8"
      },
      "source": [
        "#8.prime number\n",
        "\n",
        "def prime(num):\n",
        "  if(num>1):\n",
        "    for i in range(2,num):\n",
        "      if(num%i==0):\n",
        "        print(num,\"is not a prime number\")\n",
        "        break\n",
        "    else:\n",
        "        print(num,\"is a Prime number\")\n",
        "        \n",
        "\n",
        "num=int(input())\n",
        "\n",
        "prime(num)\n"
      ],
      "execution_count": null,
      "outputs": [
        {
          "output_type": "stream",
          "text": [
            "6\n",
            "6 is not a prime number\n"
          ],
          "name": "stdout"
        }
      ]
    },
    {
      "cell_type": "code",
      "metadata": {
        "colab": {
          "base_uri": "https://localhost:8080/"
        },
        "id": "IFD1Orjq7Eyz",
        "outputId": "00d26695-dc2a-4222-fba2-a6b7c0556197"
      },
      "source": [
        "#9.Reverse the array:\n",
        "\n",
        "\n",
        "num=[1,2,3,4,5]\n",
        "#print(num[::-1])\n",
        "\n",
        "start=0\n",
        "end=len(num)-1\n",
        "while start<end:\n",
        "  num[start],num[end]=num[end],num[start]\n",
        "  start+=1\n",
        "  end-=1\n",
        "\n",
        "print(\"Reversed array\",*num)"
      ],
      "execution_count": null,
      "outputs": [
        {
          "output_type": "stream",
          "text": [
            "[5, 4, 3, 2, 1]\n",
            "Reversed array 5 4 3 2 1\n"
          ],
          "name": "stdout"
        }
      ]
    },
    {
      "cell_type": "code",
      "metadata": {
        "colab": {
          "base_uri": "https://localhost:8080/"
        },
        "id": "arzyu83z-tlF",
        "outputId": "5002614d-c974-4bc0-ed27-5925a4759878"
      },
      "source": [
        "#10.Max and min Element of an array\n",
        "\n",
        "arr=[7,5,1,9,10,11,6]\n",
        "\n",
        "arr.sort()\n",
        "\n",
        "print(\"Min element is:\",arr[0])\n",
        "print(\"Max element is:\",arr[-1])"
      ],
      "execution_count": null,
      "outputs": [
        {
          "output_type": "stream",
          "text": [
            "Min element is: 1\n",
            "Max element is: 11\n"
          ],
          "name": "stdout"
        }
      ]
    },
    {
      "cell_type": "code",
      "metadata": {
        "colab": {
          "base_uri": "https://localhost:8080/"
        },
        "id": "Iz0hjtLSAiQN",
        "outputId": "d473dda8-0245-4094-81fc-a924845741d9"
      },
      "source": [
        "#11.Find duplicates/removing duplicates in an array\n",
        "\n",
        "arr=list(map(int,input().split()))\n",
        "unique=[]\n",
        "duplicates=[]\n",
        "for i in range(len(arr)):\n",
        "  if arr[i] not in unique:\n",
        "    unique.append(arr[i])\n",
        "  else:\n",
        "    duplicates.append(arr[i])\n",
        "  \n",
        "print(duplicates)\n",
        "print(unique)"
      ],
      "execution_count": null,
      "outputs": [
        {
          "output_type": "stream",
          "text": [
            "1 2 2 1 3 4 1 2 35 5 \n",
            "[2, 1, 1, 2]\n",
            "[1, 2, 3, 4, 35, 5]\n"
          ],
          "name": "stdout"
        }
      ]
    },
    {
      "cell_type": "code",
      "metadata": {
        "id": "6oWZ3ubPVFCU",
        "colab": {
          "base_uri": "https://localhost:8080/"
        },
        "outputId": "86a90146-470a-475e-8317-556370504e95"
      },
      "source": [
        "#12. Find Kth min element in an array\n",
        "\n",
        "arr=list(map(int,input().split()))\n",
        "k=int(input(\"Enter Kth Min Element: \"))\n",
        "#arr.sort()\n",
        "\n",
        "\n",
        "for i in range(len(arr)):\n",
        "  for j in range(i+1,len(arr)):\n",
        "    if(arr[i]>arr[j]):\n",
        "      temp=arr[i]\n",
        "      arr[i]=arr[j]\n",
        "      arr[j]=temp\n",
        "print(*arr)\n",
        "print(\" Kth Min Element is\",arr[k-1])"
      ],
      "execution_count": null,
      "outputs": [
        {
          "output_type": "stream",
          "text": [
            "7 8 9 4 5 1 2 3 \n",
            "Enter Kth Min Element2\n",
            "1 2 3 4 5 7 8 9\n",
            "2 Min Element is 2\n"
          ],
          "name": "stdout"
        }
      ]
    },
    {
      "cell_type": "code",
      "metadata": {
        "colab": {
          "base_uri": "https://localhost:8080/"
        },
        "id": "ld5JzX_VKNTe",
        "outputId": "70980d3e-f4e1-443a-a6a4-7c3fdb13cbc5"
      },
      "source": [
        "#13. Find Kth max element in an array\n",
        "\n",
        "arr=list(map(int,input().split()))\n",
        "k=int(input(\"Enter Kth Element: \" ))\n",
        "\n",
        "for i in range(len(arr)):\n",
        "  for j in range(i+1,len(arr)):\n",
        "    if(arr[i]>arr[j]):\n",
        "      temp=arr[i]\n",
        "      arr[i]=arr[j]\n",
        "      arr[j]=temp\n",
        "\n",
        "print(*arr)\n",
        "arrRev=arr[::-1]\n",
        "print(*arrRev)\n",
        "\n",
        "\n",
        "print(\"Kth max Element is: \", arrRev[k-1])"
      ],
      "execution_count": null,
      "outputs": [
        {
          "output_type": "stream",
          "text": [
            "7 8 4 6 9 1 2 3 4\n",
            "Enter Kth Element: 2\n",
            "1 2 3 4 4 6 7 8 9\n",
            "9 8 7 6 4 4 3 2 1\n",
            "Kth max Element is:  8\n"
          ],
          "name": "stdout"
        }
      ]
    },
    {
      "cell_type": "code",
      "metadata": {
        "colab": {
          "base_uri": "https://localhost:8080/"
        },
        "id": "x_Q91fXRJcKT",
        "outputId": "29e1ebf6-9728-49a1-a382-72ea2721ac93"
      },
      "source": [
        "#14. TCS Ninja Q1\n",
        "\n",
        "n = int(input())\n",
        "c = 'R'\n",
        "dis = 10\n",
        "x,y=0,0\n",
        "for i in range(n):\n",
        "    if c=='R':\n",
        "        x=x+dis\n",
        "        c='U'\n",
        "        dis=dis+10\n",
        "    elif c=='U':\n",
        "        y=y+dis\n",
        "        c='L'\n",
        "        dis=dis+10\n",
        "    elif c=='L':\n",
        "        x=x-dis\n",
        "        c='D'\n",
        "        dis=dis+10\n",
        "    elif c=='D':\n",
        "        y=y-dis\n",
        "        c='A'\n",
        "        dis=dis+10\n",
        "    elif c=='A':\n",
        "        x=x+dis\n",
        "        c='R'\n",
        "        dis=dis+10\n",
        "print(x,y)"
      ],
      "execution_count": null,
      "outputs": [
        {
          "output_type": "stream",
          "text": [
            "7\n",
            "90 50\n"
          ],
          "name": "stdout"
        }
      ]
    },
    {
      "cell_type": "code",
      "metadata": {
        "colab": {
          "base_uri": "https://localhost:8080/"
        },
        "id": "WeiC8TooidFK",
        "outputId": "18e581ed-4ba5-45a5-f7df-a477558203e3"
      },
      "source": [
        "#15. String Reverse\n",
        "\n",
        "'''str=input()\n",
        "s1=\"\".join(reversed(str))\n",
        "print(s1)\n",
        "'''\n",
        "str=input()\n",
        "rev=\"\"\n",
        "j=len(str)-1\n",
        "\n",
        "for i in range(len(str)):\n",
        "  rev = rev + str[j]\n",
        "  j-=1\n",
        "\n",
        "print(rev)\n"
      ],
      "execution_count": null,
      "outputs": [
        {
          "output_type": "stream",
          "text": [
            "hello\n",
            "olleh\n"
          ],
          "name": "stdout"
        }
      ]
    },
    {
      "cell_type": "code",
      "metadata": {
        "colab": {
          "base_uri": "https://localhost:8080/"
        },
        "id": "fB4yKVf7sVi8",
        "outputId": "d9e07b87-4a6d-418f-e354-c5a80312d2a3"
      },
      "source": [
        "#16.String Palindrome\n",
        "\n",
        "str=input()\n",
        "rev=\"\"\n",
        "j=len(str)-1\n",
        "\n",
        "for i in range(len(str)):\n",
        "  rev= rev+str[j]\n",
        "  j-=1\n",
        "\n",
        "if(rev==str):\n",
        "  print(\"Palindrome\")\n",
        "else:\n",
        "  print(\"Not Palindrome\")"
      ],
      "execution_count": null,
      "outputs": [
        {
          "output_type": "stream",
          "text": [
            "love\n",
            "Not Palindrome\n"
          ],
          "name": "stdout"
        }
      ]
    },
    {
      "cell_type": "code",
      "metadata": {
        "colab": {
          "base_uri": "https://localhost:8080/"
        },
        "id": "akdVuN0XxMO7",
        "outputId": "f0a828f8-50e4-4bad-f035-eaa7f37f0b35"
      },
      "source": [
        "#17. Finding the sum of 1st and last element of an array:\n",
        "#Time Complexity O(1)\n",
        "\n",
        "arr=list(map(int,input().split()))\n",
        "\n",
        "sum=arr[0]+arr[-1]\n",
        "print(arr[len(arr)-1])#last element of an array\n",
        "print(sum)"
      ],
      "execution_count": null,
      "outputs": [
        {
          "output_type": "stream",
          "text": [
            "1 2 3 4 5\n",
            "5\n",
            "6\n"
          ],
          "name": "stdout"
        }
      ]
    },
    {
      "cell_type": "code",
      "metadata": {
        "colab": {
          "base_uri": "https://localhost:8080/"
        },
        "id": "omJiuCbQyO8D",
        "outputId": "98494831-c622-4846-fdf6-c245225e14f1"
      },
      "source": [
        "#18. Repeating letters\n",
        "x =input(\"Enter a word = \")\n",
        "for char in set(x):\n",
        "        counts=x.count(char)\n",
        "        print((char,counts),sep=\" \")"
      ],
      "execution_count": null,
      "outputs": [
        {
          "output_type": "stream",
          "text": [
            "Enter a word = hello\n",
            "('e', 1)\n",
            "('h', 1)\n",
            "('l', 2)\n",
            "('o', 1)\n"
          ],
          "name": "stdout"
        }
      ]
    },
    {
      "cell_type": "code",
      "metadata": {
        "colab": {
          "base_uri": "https://localhost:8080/"
        },
        "id": "zVMF68yGHhTu",
        "outputId": "0032c752-01ba-473d-8090-4900d4b01ec0"
      },
      "source": [
        "#19. TCS Ninja\n",
        "\n",
        "'''Write a program to print the pattern such that the elements of first row, first \n",
        "column,last row and last column should be one and the remaining elements should be\n",
        "zero.'''\n",
        "\n",
        "\n",
        "row,col=map(int,input().split())\n",
        "\n",
        "for i in range(row):\n",
        "  for j in range(col):\n",
        "    if(i==0 or i==row-1 or j==0 or j==col-1):\n",
        "      print(\" \",end=\"1\")\n",
        "    else:\n",
        "      print(\" \",end=\"0\")\n",
        "  print('\\r')\n"
      ],
      "execution_count": null,
      "outputs": [
        {
          "output_type": "stream",
          "text": [
            "3 3\n",
            " 1 1 1\n",
            " 1 0 1\n",
            " 1 1 1\n"
          ],
          "name": "stdout"
        }
      ]
    },
    {
      "cell_type": "code",
      "metadata": {
        "colab": {
          "base_uri": "https://localhost:8080/"
        },
        "id": "Lgq2wSUMLSqn",
        "outputId": "c2ac8aeb-cc4f-4e0f-a21a-92da2835dde5"
      },
      "source": [
        "#20.  TCS Ninja\n",
        "\n",
        "'''Given a sorted array with many duplicate elements, the problem is to find indexes of\n",
        "first and last occurrences of an element X in the given array.Start the array index from 0.\n",
        "If element X is not present in the array,print \"NO OCCURENCES\".'''\n",
        "\n",
        "\n",
        "n=int(input())\n",
        "arr=list(map(int,input().split()))\n",
        "x=int(input())\n",
        "\n",
        "first=-1\n",
        "last=-1\n",
        "\n",
        "for i in range(n):\n",
        "  if(arr[i]==x and first==-1):\n",
        "    first=i\n",
        "    last=i\n",
        "  elif(arr[i]==x and first!=-1):\n",
        "    last=i\n",
        "\n",
        "if(first==-1):\n",
        "  print(\"NO OCCURENCES\")\n",
        "else:\n",
        "  print(\"Index position of Element X in First and last: \")\n",
        "  print(first,last)"
      ],
      "execution_count": null,
      "outputs": [
        {
          "output_type": "stream",
          "text": [
            "5\n",
            "1 2 3 4 5\n",
            "3\n",
            "Index position of Element X in First and last: \n",
            "2 2\n"
          ],
          "name": "stdout"
        }
      ]
    },
    {
      "cell_type": "code",
      "metadata": {
        "colab": {
          "base_uri": "https://localhost:8080/"
        },
        "id": "Npt6HBlOS7yJ",
        "outputId": "a71ec5ef-9982-499b-e7ec-90223c3fbfbf"
      },
      "source": [
        "#21. TCS Ninja\n",
        "\n",
        "'''\n",
        "Consider the following series: 1,1,2,3,4,9,8,27,16,81,32,243,64,729,128,2187…\n",
        "This series is a mixture of 2 series – all the odd terms in this series form a geometric series\n",
        "and all the even terms form yet another geometric series. Write a program to find the\n",
        "Nth termin the odd series.\n",
        "The value N in a positive integer that should be read from STDIN. The Nth term that is\n",
        "calculated by the program should be written to STDOUT. Other than value of n thterm,no\n",
        "other character / string or message should be written to STDOUT. For example , if N=16,\n",
        "the 16th term in the series is 2187, so only value 2187 should be printed to STDOUT.\n",
        "You can assume that N will not exceed 30.'''\n",
        "\n",
        "\n",
        "n=int(input())\n",
        "\n",
        "if(n%2==0):\n",
        "  val=1\n",
        "  n=n//2\n",
        "  for i in range(2,n+1): \n",
        "    val =val*3\n",
        "  print(val)\n",
        "\n",
        "else:\n",
        "  val=1\n",
        "  n=n//2 + 1\n",
        "  for i in range(2,n+1):\n",
        "    val=val*2\n",
        "  print(val)\n"
      ],
      "execution_count": null,
      "outputs": [
        {
          "output_type": "stream",
          "text": [
            "1\n",
            "1\n"
          ],
          "name": "stdout"
        }
      ]
    },
    {
      "cell_type": "code",
      "metadata": {
        "colab": {
          "base_uri": "https://localhost:8080/"
        },
        "id": "wnB01b5edCNT",
        "outputId": "04b42cdd-b540-4ee0-a5b0-7f70735e1636"
      },
      "source": [
        "#22. TCS Ninja GCD:\n",
        "\n",
        "def gcd(a,b):\n",
        "  if(a<0 or b<0):\n",
        "    return (-1)\n",
        "  elif(a==0):\n",
        "    return b\n",
        "  elif(b==0):\n",
        "    return a\n",
        "  elif(a>b):\n",
        "    return gcd(a-b,b)\n",
        "  else:\n",
        "    return gcd(a,b-a)\n",
        "\n",
        "\n",
        "a,b=map(int,input().split())\n",
        "\n",
        "res=gcd(a,b)\n",
        "if(res==-1):\n",
        "  print(\"Wrong Input\")\n",
        "else:\n",
        "  print(res)\n",
        "\n",
        "\n"
      ],
      "execution_count": null,
      "outputs": [
        {
          "output_type": "stream",
          "text": [
            "-1 0\n",
            "Wrong Input\n"
          ],
          "name": "stdout"
        }
      ]
    },
    {
      "cell_type": "code",
      "metadata": {
        "colab": {
          "base_uri": "https://localhost:8080/"
        },
        "id": "dO2IMns7hbly",
        "outputId": "4512f349-072e-4eef-d9ff-40c7cc079461"
      },
      "source": [
        "#23. Armstrong number: To check whether the number is an Armstrong or not:\n",
        "#153,370,371,1634 --- >Armstrong number\n",
        "\n",
        "num=int(input())\n",
        "temp=num\n",
        "sum = 0\n",
        "while (num!=0):\n",
        "  dig=num%10\n",
        "  sum = sum +(dig**3)\n",
        "  num=num//10\n",
        "\n",
        "print(sum)\n",
        "if(sum==temp):\n",
        "  print(\"Arnmstrong number\")\n",
        "else:\n",
        "  print(\"Not An Armstrong Number\")"
      ],
      "execution_count": null,
      "outputs": [
        {
          "output_type": "stream",
          "text": [
            "153\n",
            "153\n",
            "Arnmstrong number\n"
          ],
          "name": "stdout"
        }
      ]
    },
    {
      "cell_type": "code",
      "metadata": {
        "colab": {
          "base_uri": "https://localhost:8080/"
        },
        "id": "7g6l6BD8iops",
        "outputId": "8e62eacf-2690-4281-8d1f-d45f0adec81f"
      },
      "source": [
        "#24. Armstrong number between given range:\n",
        "\n",
        "def armstrong(start,end):\n",
        "  for i in range(start,end+1):\n",
        "    sum = 0  \n",
        "    temp = i \n",
        "    while temp > 0:  \n",
        "       digit = temp % 10  \n",
        "       sum += digit ** 3  \n",
        "       temp //= 10  \n",
        "    if i == sum:  \n",
        "            print(i,end=\" \")\n",
        "  else:\n",
        "      print(\"No Armstrong Num between the given interval\")\n",
        "\n",
        "\n",
        "a,b=map(int,input().split())\n",
        "armstrong(a,b)\n"
      ],
      "execution_count": null,
      "outputs": [
        {
          "output_type": "stream",
          "text": [
            "200 300\n",
            "No Armstrong Num between the given interval\n"
          ],
          "name": "stdout"
        }
      ]
    },
    {
      "cell_type": "code",
      "metadata": {
        "colab": {
          "base_uri": "https://localhost:8080/"
        },
        "id": "M5ng1gPItY3o",
        "outputId": "66261cfe-58a9-48ba-a640-d6b85eada801"
      },
      "source": [
        "#25. Prime Numbers between the range:\n",
        "\n",
        "def prime(start,end):\n",
        "  for num in range(start,end+1):\n",
        "    if(num>1):\n",
        "      for i in range(2,num):\n",
        "        if(num%i==0):\n",
        "          break\n",
        "          \n",
        "      else:\n",
        "        print(num)\n",
        "        \n",
        "      \n",
        "    \n",
        "\n",
        "a,b=map(int,input().split())\n",
        "prime(a,b)\n"
      ],
      "execution_count": null,
      "outputs": [
        {
          "output_type": "stream",
          "text": [
            "85 125\n",
            "89\n",
            "97\n",
            "101\n",
            "103\n",
            "107\n",
            "109\n",
            "113\n"
          ],
          "name": "stdout"
        }
      ]
    },
    {
      "cell_type": "code",
      "metadata": {
        "colab": {
          "base_uri": "https://localhost:8080/"
        },
        "id": "Osdn56-71BIv",
        "outputId": "981bc14e-1ba6-4653-9af3-087b8d6af0c3"
      },
      "source": [
        "def fact(num):\n",
        "  if(num<=1):\n",
        "    return num\n",
        "  else:\n",
        "    return num*fact(num-1)\n",
        "\n",
        "print(fact(int(input())))"
      ],
      "execution_count": null,
      "outputs": [
        {
          "output_type": "stream",
          "text": [
            "5\n",
            "120\n"
          ],
          "name": "stdout"
        }
      ]
    },
    {
      "cell_type": "code",
      "metadata": {
        "colab": {
          "base_uri": "https://localhost:8080/"
        },
        "id": "5ZjXL4bCxSvh",
        "outputId": "ddede906-5d9b-4e96-b4bf-e28e035db57a"
      },
      "source": [
        "#26. Printing Patterns:\n",
        "\n",
        "num=int(input())\n",
        "\n",
        "for i in range(1,num+1):\n",
        "  print(\"* \"*i)"
      ],
      "execution_count": null,
      "outputs": [
        {
          "output_type": "stream",
          "text": [
            "5\n",
            "* \n",
            "* * \n",
            "* * * \n",
            "* * * * \n",
            "* * * * * \n"
          ],
          "name": "stdout"
        }
      ]
    },
    {
      "cell_type": "code",
      "metadata": {
        "colab": {
          "base_uri": "https://localhost:8080/"
        },
        "id": "x0S_zmp97mRx",
        "outputId": "30ab45e7-5b67-418a-cad3-91187a10ca3e"
      },
      "source": [
        "num=int(input())\n",
        "\n",
        "for i in range(1,num+1):\n",
        "  print(\" \"*(num-i)+\"* \"*i)"
      ],
      "execution_count": null,
      "outputs": [
        {
          "output_type": "stream",
          "text": [
            "5\n",
            "    * \n",
            "   * * \n",
            "  * * * \n",
            " * * * * \n",
            "* * * * * \n"
          ],
          "name": "stdout"
        }
      ]
    },
    {
      "cell_type": "code",
      "metadata": {
        "colab": {
          "base_uri": "https://localhost:8080/"
        },
        "id": "n-ZdL-Fz-ySf",
        "outputId": "889d4bdb-4195-4f0c-b700-8d8e3de2c125"
      },
      "source": [
        "num=int(input())\n",
        "\n",
        "for i in range(num,0,-1):\n",
        "  print(\" \"*(num-i)+\"* \"*i)"
      ],
      "execution_count": null,
      "outputs": [
        {
          "output_type": "stream",
          "text": [
            "5\n",
            "* * * * * \n",
            " * * * * \n",
            "  * * * \n",
            "   * * \n",
            "    * \n"
          ],
          "name": "stdout"
        }
      ]
    },
    {
      "cell_type": "code",
      "metadata": {
        "colab": {
          "base_uri": "https://localhost:8080/"
        },
        "id": "5M7lTPfr8ALJ",
        "outputId": "d824829d-98d7-42f8-b56f-de081ebd22dd"
      },
      "source": [
        "num=int(input())\n",
        "for i in range(1,num+1):\n",
        "  print(\"  \"*(num-i)+\"* \"*i)"
      ],
      "execution_count": null,
      "outputs": [
        {
          "output_type": "stream",
          "text": [
            "5\n",
            "        * \n",
            "      * * \n",
            "    * * * \n",
            "  * * * * \n",
            "* * * * * \n"
          ],
          "name": "stdout"
        }
      ]
    },
    {
      "cell_type": "code",
      "metadata": {
        "colab": {
          "base_uri": "https://localhost:8080/"
        },
        "id": "XLCFwhTK8sYh",
        "outputId": "35c14d05-fed8-4b29-ee18-a716a4a40f83"
      },
      "source": [
        "num=int(input())\n",
        "for i in range(1,num+1):\n",
        "  print(\" \"*(num-i)+\"* \"*i)\n",
        "\n",
        "for i in range(num,0,-1):\n",
        "  print(\" \"*(num-i)+\"* \"*i)"
      ],
      "execution_count": null,
      "outputs": [
        {
          "output_type": "stream",
          "text": [
            "5\n",
            "    * \n",
            "   * * \n",
            "  * * * \n",
            " * * * * \n",
            "* * * * * \n",
            "* * * * * \n",
            " * * * * \n",
            "  * * * \n",
            "   * * \n",
            "    * \n"
          ],
          "name": "stdout"
        }
      ]
    },
    {
      "cell_type": "code",
      "metadata": {
        "colab": {
          "base_uri": "https://localhost:8080/"
        },
        "id": "Wr-6ieqJ9wJx",
        "outputId": "cf7e63bc-7239-4629-83d5-85c3b427ccfc"
      },
      "source": [
        "num=int(input())\n",
        "\n",
        "for i in range(1,num+1):\n",
        "  print(\"  \"*(num-i)+\"* \"*i)\n",
        "for i in range(num,0,-1):\n",
        "  print(\"  \"*(num-i)+\"* \"*i)"
      ],
      "execution_count": null,
      "outputs": [
        {
          "output_type": "stream",
          "text": [
            "5\n",
            "        * \n",
            "      * * \n",
            "    * * * \n",
            "  * * * * \n",
            "* * * * * \n",
            "* * * * * \n",
            "  * * * * \n",
            "    * * * \n",
            "      * * \n",
            "        * \n"
          ],
          "name": "stdout"
        }
      ]
    },
    {
      "cell_type": "code",
      "metadata": {
        "colab": {
          "base_uri": "https://localhost:8080/"
        },
        "id": "R5NJztbO-he8",
        "outputId": "fd4b03ad-e0eb-46d5-a8bc-a5cee2b1752e"
      },
      "source": [
        "num=int(input())\n",
        "\n",
        "for i in range(1,num+1):\n",
        "  print(\"* \"*i)\n",
        "for i in range(num-1,0,-1):\n",
        "  print(\"* \"*i)"
      ],
      "execution_count": null,
      "outputs": [
        {
          "output_type": "stream",
          "text": [
            "5\n",
            "* \n",
            "* * \n",
            "* * * \n",
            "* * * * \n",
            "* * * * * \n",
            "* * * * \n",
            "* * * \n",
            "* * \n",
            "* \n"
          ],
          "name": "stdout"
        }
      ]
    },
    {
      "cell_type": "code",
      "metadata": {
        "colab": {
          "base_uri": "https://localhost:8080/"
        },
        "id": "1RJYDLa--wbc",
        "outputId": "4c81f9a7-6a90-44d2-dc01-cbbbff742e4f"
      },
      "source": [
        "num=int(input())\n",
        "\n",
        "for i in range(1,num+1):\n",
        "  print(\"  \"*(num-i)+ \"* \"*i)\n",
        "\n",
        "for i in range(num-1,0,-1):\n",
        "  print(\"  \"*(num-i)+\"* \"*i)\n"
      ],
      "execution_count": null,
      "outputs": [
        {
          "output_type": "stream",
          "text": [
            "5\n",
            "        * \n",
            "      * * \n",
            "    * * * \n",
            "  * * * * \n",
            "* * * * * \n",
            "  * * * * \n",
            "    * * * \n",
            "      * * \n",
            "        * \n"
          ],
          "name": "stdout"
        }
      ]
    },
    {
      "cell_type": "code",
      "metadata": {
        "colab": {
          "base_uri": "https://localhost:8080/"
        },
        "id": "EYBApZk6CgNQ",
        "outputId": "1a2397b3-d15e-4d74-f8a3-3b36f5ee2300"
      },
      "source": [
        "# * pattern in heart shape:\n",
        "\n",
        "for i in range(6):\n",
        "  for j in range(7):\n",
        "    if((i==0 and j%3!=0) or (i==1 and j%3==0) or (i-j==2)or (i+j==8)):\n",
        "      print(\"*\",end=\" \")\n",
        "    else: \n",
        "      print(\" \",end=\" \")\n",
        "  print()\n"
      ],
      "execution_count": null,
      "outputs": [
        {
          "output_type": "stream",
          "text": [
            "  * *   * *   \n",
            "*     *     * \n",
            "*           * \n",
            "  *       *   \n",
            "    *   *     \n",
            "      *       \n"
          ],
          "name": "stdout"
        }
      ]
    },
    {
      "cell_type": "code",
      "metadata": {
        "colab": {
          "base_uri": "https://localhost:8080/"
        },
        "id": "bmK0-61WY-aj",
        "outputId": "75f087da-2720-4827-9217-61fe09f6d0f8"
      },
      "source": [
        "num=5\n",
        "\n",
        "'''for i in range(1,num+1):\n",
        "  print(\"* \"*i)'''\n",
        "for i in range(num,0,-1):\n",
        "  print(\" \"*(num-i)+\"* \"*i)"
      ],
      "execution_count": null,
      "outputs": [
        {
          "output_type": "stream",
          "text": [
            "* * * * * \n",
            " * * * * \n",
            "  * * * \n",
            "   * * \n",
            "    * \n"
          ],
          "name": "stdout"
        }
      ]
    },
    {
      "cell_type": "code",
      "metadata": {
        "colab": {
          "base_uri": "https://localhost:8080/"
        },
        "id": "mRaFtXHJaD4C",
        "outputId": "f8e0b803-dc64-4963-892b-217f824f98fa"
      },
      "source": [
        "num = int(input())\n",
        "sum=0\n",
        "temp=num\n",
        "\n",
        "while(num!=0):\n",
        "  dig =num%10\n",
        "  sum=sum+(dig**3)\n",
        "  num=num//10\n",
        "if(temp==sum):\n",
        "  print(\"Armstrong\")"
      ],
      "execution_count": null,
      "outputs": [
        {
          "output_type": "stream",
          "text": [
            "153\n",
            "Armstrong\n"
          ],
          "name": "stdout"
        }
      ]
    },
    {
      "cell_type": "code",
      "metadata": {
        "colab": {
          "base_uri": "https://localhost:8080/"
        },
        "id": "GIdPHeezanO3",
        "outputId": "50e686dd-93b0-4062-b650-3b8629d5f032"
      },
      "source": [
        "def armstrong(start,end):\n",
        "\n",
        "  for num in range(start,end+1):\n",
        "    sum=0\n",
        "    temp=num\n",
        "    while(temp!=0):\n",
        "      dig=temp%10\n",
        "      sum =sum +(dig**4)\n",
        "      temp=temp//10\n",
        "    if(sum==num):\n",
        "        print(num,end=\" \")\n",
        "\n",
        "armstrong(1000,4000)"
      ],
      "execution_count": null,
      "outputs": [
        {
          "output_type": "stream",
          "text": [
            "1634 "
          ],
          "name": "stdout"
        }
      ]
    },
    {
      "cell_type": "code",
      "metadata": {
        "colab": {
          "base_uri": "https://localhost:8080/"
        },
        "id": "xpzLB5SLh0I8",
        "outputId": "196a4f23-c24b-4845-8eba-65b313241ef8"
      },
      "source": [
        "#27. Anagram\n",
        "\n",
        "str1,str2=map(str,input().split())\n",
        "\n",
        "if(len(str1)==len(str2)):\n",
        "  if(sorted(str1)==sorted(str2)):\n",
        "    print(\"Anagram\")\n",
        "  else:\n",
        "    print(\"Not Anagram\")"
      ],
      "execution_count": null,
      "outputs": [
        {
          "output_type": "stream",
          "text": [
            "jkn ionmkm\n"
          ],
          "name": "stdout"
        }
      ]
    },
    {
      "cell_type": "code",
      "metadata": {
        "colab": {
          "base_uri": "https://localhost:8080/"
        },
        "id": "suPAjA7RjT5E",
        "outputId": "54c321a6-17c4-4799-8114-0373393bc409"
      },
      "source": [
        "\n",
        "#28. grouping of anagrams\n",
        "from collections import defaultdict\n",
        "\n",
        "def anagrams(strs):\n",
        "  dicts=defaultdict(list)\n",
        "  for s in strs:\n",
        "    key =\"\".join(sorted(list(s)))\n",
        "    dicts[key].append(s)\n",
        "\n",
        "  return [l for l in dicts.values()]\n",
        "\n",
        "\n",
        "strs=['cat','earth','mat','tam','tac','act','ate','eat','heart']\n",
        "\n",
        "print(*anagrams(strs))\n",
        "\n"
      ],
      "execution_count": null,
      "outputs": [
        {
          "output_type": "stream",
          "text": [
            "['cat', 'tac', 'act'] ['earth', 'heart'] ['mat', 'tam'] ['ate', 'eat']\n"
          ],
          "name": "stdout"
        }
      ]
    },
    {
      "cell_type": "code",
      "metadata": {
        "colab": {
          "base_uri": "https://localhost:8080/"
        },
        "id": "wEP88YtgskI0",
        "outputId": "a4271bee-9c60-4860-de82-8f48f21d7195"
      },
      "source": [
        "#29. Given a time in 12-hour AM/PM format, convert it to railway (24-hour) time.\n",
        "\n",
        "def timeConversion(s):\n",
        "\n",
        "  if(s[-2:]=='AM' and s[:2]=='12'):#midnight\n",
        "    print('00'+s[2:-2])\n",
        "  elif(s[-2:]==\"AM\"):#Morning\n",
        "    print(s[:-2])\n",
        "  elif(s[-2:]=='PM' and s[:2]=='12'):\n",
        "    print(s[:-2])\n",
        "  else:\n",
        "    return (\"%s%s\"%((int(s[:2]) + 12),(s[2:8])))\n",
        "\n",
        "    \n",
        "print(timeConversion(\"01:15:20 PM\"))"
      ],
      "execution_count": null,
      "outputs": [
        {
          "output_type": "stream",
          "text": [
            "13:15:20\n"
          ],
          "name": "stdout"
        }
      ]
    },
    {
      "cell_type": "code",
      "metadata": {
        "colab": {
          "base_uri": "https://localhost:8080/"
        },
        "id": "0Kp9d98f5Wdu",
        "outputId": "3aa8ac1e-57e9-4249-d2d5-28ac5ab13056"
      },
      "source": [
        "#30. Finding Common element in 3 arrays:\n",
        "\n",
        "def findCommon(ar1, ar2, ar3, n1, n2, n3):\n",
        "    i, j, k = 0, 0, 0\n",
        "    while (i < n1 and j < n2 and k< n3):\n",
        "        if (ar1[i] == ar2[j] and ar2[j] == ar3[k]):\n",
        "            print(ar1[i])\n",
        "            i += 1\n",
        "            j += 1\n",
        "            k += 1\n",
        "        elif ar1[i] < ar2[j]:\n",
        "            i += 1\n",
        "        elif ar2[j] < ar3[k]:\n",
        "            j += 1\n",
        "        else:\n",
        "            k += 1\n",
        "ar1 = list(map(int,input().split()))\n",
        "ar2 = list(map(int,input().split()))\n",
        "ar3 = list(map(int,input().split()))\n",
        "n1 = len(ar1)\n",
        "n2 = len(ar2)\n",
        "n3 = len(ar3)\n",
        "print(findCommon(ar1, ar2, ar3, n1, n2, n3))"
      ],
      "execution_count": null,
      "outputs": [
        {
          "output_type": "stream",
          "text": [
            "5 6 7 \n",
            "4 5 9 10\n",
            "1 2 3 4 5 \n",
            "5\n",
            "None\n"
          ],
          "name": "stdout"
        }
      ]
    },
    {
      "cell_type": "code",
      "metadata": {
        "colab": {
          "base_uri": "https://localhost:8080/"
        },
        "id": "sMOl_AsJUWhM",
        "outputId": "e75abd2f-5cc2-4355-c6ca-628717c10299"
      },
      "source": [
        "#31. Move all negatives to one part of the array\n",
        "\n",
        "arr=list(map(int,input().split()))\n",
        "\n",
        "neg=[]\n",
        "pos=[]\n",
        "\n",
        "for i in range(len(arr)):\n",
        "  if arr[i]<0:\n",
        "    neg.append(arr[i])\n",
        "  else:\n",
        "    pos.append(arr[i])\n",
        "\n",
        "neg.sort() \n",
        "pos.sort()\n",
        "print(*(neg+pos))\n",
        "\n"
      ],
      "execution_count": null,
      "outputs": [
        {
          "output_type": "stream",
          "text": [
            "88 99 11 -22 -33 -44 -77 6 4 5 -20 -35\n",
            "-77 -44 -35 -33 -22 -20 4 5 6 11 88 99\n"
          ],
          "name": "stdout"
        }
      ]
    },
    {
      "cell_type": "code",
      "metadata": {
        "colab": {
          "base_uri": "https://localhost:8080/"
        },
        "id": "pKoLSHDeUEA3",
        "outputId": "affa37da-2013-4c15-cbb0-82e67dc840f9"
      },
      "source": [
        "#32. union of 2 arrays\n",
        "\n",
        "import numpy as np\n",
        "a=list(map(int,input(\"Arr1: \").split()))\n",
        "\n",
        "b=list(map(int,input(\"Arr2: \").split()))\n",
        "\n",
        "print(\"Union of arr1 and arr2: \",*np.union1d(a,b))"
      ],
      "execution_count": null,
      "outputs": [
        {
          "output_type": "stream",
          "text": [
            "Arr1: 1 2 3\n",
            "Arr2: 4 5 6\n",
            "Union of arr1 and arr2:  1 2 3 4 5 6\n"
          ],
          "name": "stdout"
        }
      ]
    },
    {
      "cell_type": "code",
      "metadata": {
        "colab": {
          "base_uri": "https://localhost:8080/"
        },
        "id": "6fhSWQjdZU59",
        "outputId": "c43f46c9-f030-49d4-a639-4fff1c67255a"
      },
      "source": [
        "def Union(lst1, lst2):\n",
        "    final_list = list(set(lst1) | set(lst2))\n",
        "    return final_list\n",
        "\n",
        "lst1 = list(map(int,input(\"Arr1: \").split()))\n",
        "lst2 =list(map(int,input(\"Arr1: \").split()))\n",
        "\n",
        "print(Union(lst1, lst2))"
      ],
      "execution_count": null,
      "outputs": [
        {
          "output_type": "stream",
          "text": [
            "Arr1: 1 2 3\n",
            "Arr1: 2 3 4 5 6 \n",
            "[1, 2, 3, 4, 5, 6]\n"
          ],
          "name": "stdout"
        }
      ]
    },
    {
      "cell_type": "code",
      "metadata": {
        "colab": {
          "base_uri": "https://localhost:8080/"
        },
        "id": "a0yP4ckKZqhb",
        "outputId": "80ff8644-2c5d-4609-9fa3-006e1ff7a8a1"
      },
      "source": [
        "#33. intersect of 2 array:\n",
        "import numpy as np\n",
        "\n",
        "arr1=list(map(int,input(\"Arr1: \").split()))\n",
        "arr2=list(map(int,input(\"Arr1: \").split()))\n",
        "\n",
        "print(*np.intersect1d(arr1,arr2))"
      ],
      "execution_count": null,
      "outputs": [
        {
          "output_type": "stream",
          "text": [
            "Arr1: 1 2 3 4 5 6\n",
            "Arr1: 3 4 5 6 7 9\n",
            "[3 4 5 6]\n"
          ],
          "name": "stdout"
        }
      ]
    },
    {
      "cell_type": "code",
      "metadata": {
        "colab": {
          "base_uri": "https://localhost:8080/"
        },
        "id": "3-W6Dw0laPLM",
        "outputId": "24679316-fe02-4958-9d27-40101263caa9"
      },
      "source": [
        "#intersection using set\n",
        "arr1=list(map(int,input(\"Arr1: \").split()))\n",
        "arr2=list(map(int,input(\"Arr1: \").split()))\n",
        "\n",
        "common = list(set(arr1) & set(arr2))\n",
        "\n",
        "print(*common)"
      ],
      "execution_count": null,
      "outputs": [
        {
          "output_type": "stream",
          "text": [
            "Arr1: 1 2 3 4 5 \n",
            "Arr1: 2 3 4 7 \n",
            "2 3 4\n"
          ],
          "name": "stdout"
        }
      ]
    },
    {
      "cell_type": "code",
      "metadata": {
        "id": "Ikh4dt_8Uf1X",
        "colab": {
          "base_uri": "https://localhost:8080/"
        },
        "outputId": "4d15edc1-4e56-4d1d-cab9-27ee23daf100"
      },
      "source": [
        "#34. Soting an array in wave form:\n",
        "\n",
        "def waveSort(arr,n):\n",
        "  arr.sort()\n",
        "\n",
        "  for i in range(0,n-1,2):\n",
        "    arr[i],arr[i+1]=arr[i+1],arr[i]\n",
        "  \n",
        "\n",
        "\n",
        "\n",
        "arr=list(map(int,input().split()))\n",
        "waveSort(arr,len(arr))\n",
        "\n",
        "for i in range(0,len(arr)):\n",
        "  print(arr[i],end=\" \")\n",
        "\n",
        "\n",
        "\n"
      ],
      "execution_count": null,
      "outputs": [
        {
          "output_type": "stream",
          "text": [
            "10 1 2 3 7 9 2 26  \n",
            "2 1 3 2 9 7 26 10 "
          ],
          "name": "stdout"
        }
      ]
    },
    {
      "cell_type": "code",
      "metadata": {
        "colab": {
          "base_uri": "https://localhost:8080/"
        },
        "id": "QbgHHW8HrJNu",
        "outputId": "1540006d-b7c0-49e9-958c-c75c7a22f7e0"
      },
      "source": [
        "#35. Rotate the array in clock wise direction:\n",
        "\n",
        "def rotate(arr,n):\n",
        "  x=arr[n-1]\n",
        "  for i in range(n-1,0,-1):\n",
        "    arr[i]=arr[i-1]\n",
        "  arr[0]=x\n",
        "  \n",
        "arr= list(map(int,input().split()))\n",
        "n=len(arr)\n",
        "rotate(arr,n)\n",
        "\n",
        "print(*arr)\n"
      ],
      "execution_count": null,
      "outputs": [
        {
          "output_type": "stream",
          "text": [
            "1 2 3\n",
            "3 1 2\n"
          ],
          "name": "stdout"
        }
      ]
    },
    {
      "cell_type": "code",
      "metadata": {
        "colab": {
          "base_uri": "https://localhost:8080/"
        },
        "id": "PwvdP45gwN06",
        "outputId": "d6e02a12-e839-43b6-e4ee-97143967bc6f"
      },
      "source": [
        "#36. Largest Sum Contiguous Subarray -- Kadane's Algorithm \n",
        "\n",
        "def largestSum(arr,n):\n",
        "  actual_max=arr[0]\n",
        "  curr_max=arr[0]\n",
        "\n",
        "  for i in range(1,n):\n",
        "    curr_max=max(arr[i],(curr_max+arr[i]))\n",
        "    actual_max=max(actual_max,curr_max)\n",
        "  return actual_max\n",
        "\n",
        "\n",
        "arr=list(map(int,input().split()))\n",
        "\n",
        "print(largestSum(arr,len(arr)))\n"
      ],
      "execution_count": null,
      "outputs": [
        {
          "output_type": "stream",
          "text": [
            "1 2 3 -2 5\n",
            "9\n"
          ],
          "name": "stdout"
        }
      ]
    },
    {
      "cell_type": "code",
      "metadata": {
        "id": "ZHDomCwKH9mC",
        "colab": {
          "base_uri": "https://localhost:8080/"
        },
        "outputId": "a4dd2531-eb71-49e9-9f2c-5508c2d12aed"
      },
      "source": [
        "#37. Searching an element in a matrix\n",
        "\n",
        "def search(matrix,n,ele):\n",
        "  i=0\n",
        "  j=n-1\n",
        "\n",
        "  while(i<n and j>=0):\n",
        "    if(matrix[i][j]==ele):\n",
        "      print(\"Element found at: \", i,j)\n",
        "      break\n",
        "    elif(matrix[i][j]>ele):\n",
        "      j=j-1\n",
        "    elif(matrix[i][j]<ele):\n",
        "      i=i+1\n",
        "    print(\"Element not found.\")\n",
        "    break\n",
        "\n",
        "matrix=[]\n",
        "n,m=map(int,input().split())\n",
        "print(\"Enter Matrix Elements: \")\n",
        "print()\n",
        "\n",
        "for i in range(n):\n",
        "  matrix.append(list(map(int,input().rstrip().split())))\n",
        "\n",
        "ele=int(input(\"Enter the Element to search in the matrix: \"))\n",
        "\n",
        "matrix.sort()\n",
        "\n",
        "search(matrix,n,ele)\n",
        "\n",
        "\n"
      ],
      "execution_count": null,
      "outputs": [
        {
          "output_type": "stream",
          "text": [
            "2 2\n",
            "Enter Matrix Elements: \n",
            "\n",
            "3 6\n",
            "7 1\n",
            "Enter the Element to search in the matrix: 1\n",
            "Element not found.\n"
          ],
          "name": "stdout"
        }
      ]
    },
    {
      "cell_type": "code",
      "metadata": {
        "colab": {
          "base_uri": "https://localhost:8080/"
        },
        "id": "JGh-FxInRBsn",
        "outputId": "b2235de7-c968-4bad-a726-036e34800b08"
      },
      "source": [
        "M = 2\n",
        "N = 2\n",
        "def binarySearch1D(arr, K):\n",
        "    low = 0\n",
        "    high = N - 1\n",
        "    while (low <= high):\n",
        "        mid = low + int((high - low) / 2)\n",
        "        if (arr[mid] == K):\n",
        "            return True\n",
        "        if (arr[mid] < K):\n",
        "            low = mid + 1\n",
        "        else:\n",
        "            high = mid - 1\n",
        "    return False\n",
        "def searchMatrix(matrix, K):\n",
        "    low = 0\n",
        "    high = M - 1\n",
        "    while (low <= high):\n",
        "        mid = low + int((high - low) / 2)\n",
        "        if (K >= matrix[mid][0] and\n",
        "            K <= matrix[mid][N - 1]):\n",
        "            return binarySearch1D(matrix[mid], K)\n",
        "        if (K < matrix[mid][0]):\n",
        "            high = mid - 1\n",
        "        else:\n",
        "            low = mid + 1\n",
        "    return False\n",
        " \n",
        "# Driver code\n",
        "if __name__ == '__main__':\n",
        "    matrix = []\n",
        "    for i in range(M):\n",
        "        matrix.append(list(map(int,input().rstrip().split())))\n",
        "    K = int(input(\"Enter Element to be searched: \"))\n",
        "    matrix.sort()\n",
        "    if (searchMatrix(matrix, K)):\n",
        "        print(\"Found\")\n",
        "    else:\n",
        "        print(\"Not found\")"
      ],
      "execution_count": null,
      "outputs": [
        {
          "output_type": "stream",
          "text": [
            "2 3\n",
            "6 1\n",
            "Enter Element to be searched: 1\n",
            "Not found\n"
          ],
          "name": "stdout"
        }
      ]
    },
    {
      "cell_type": "code",
      "metadata": {
        "colab": {
          "base_uri": "https://localhost:8080/"
        },
        "id": "ELxJ2AIvUfmF",
        "outputId": "4f05d53c-7f99-49ba-e254-55c0d75e377b"
      },
      "source": [
        "#Kadane's Algorithm:\n",
        "\n",
        "def maxSum(arr,n):\n",
        "\n",
        "  initial_sum=arr[0]\n",
        "  curr_sum=arr[0]\n",
        "  for i in range(1,n):\n",
        "    curr_sum=max(arr[i],(curr_sum+arr[i]))\n",
        "    initial_sum=max(initial_sum,curr_sum)\n",
        "  \n",
        "  return initial_sum\n",
        "\n",
        "\n",
        "\n",
        "arr = [1,2,3,-2,5]\n",
        "n=len(arr)\n",
        "print(maxSum(arr,n))"
      ],
      "execution_count": null,
      "outputs": [
        {
          "output_type": "stream",
          "text": [
            "9\n"
          ],
          "name": "stdout"
        }
      ]
    },
    {
      "cell_type": "code",
      "metadata": {
        "colab": {
          "base_uri": "https://localhost:8080/"
        },
        "id": "h0heDP1AXSJJ",
        "outputId": "bdbf56e4-1aee-4146-a9e2-16826894c837"
      },
      "source": [
        "#38. Merge 2 sorted arrays without extra spaces\n",
        "\n",
        "\n",
        "arr1=list(map(int,input().split()))\n",
        "\n",
        "arr2=list(map(int,input().split()))\n",
        "\n",
        "arr1.sort()\n",
        "arr2.sort()\n",
        "\n",
        "res=(arr1+arr2)\n",
        "res.sort()\n",
        "print(*res)\n"
      ],
      "execution_count": null,
      "outputs": [
        {
          "output_type": "stream",
          "text": [
            "5 10\n",
            "18 12 20\n",
            "5 10 12 18 20\n"
          ],
          "name": "stdout"
        }
      ]
    },
    {
      "cell_type": "code",
      "metadata": {
        "colab": {
          "base_uri": "https://localhost:8080/"
        },
        "id": "_vjivSRLePIr",
        "outputId": "3cba4079-3d42-407c-801f-3c9f90de1427"
      },
      "source": [
        "#39. Merge intervals\n",
        "\n",
        "def merge(intervals):\n",
        "  intervals.sort()\n",
        "  res=[]\n",
        "  start,end=intervals[0][0],intervals[0][1]\n",
        "\n",
        "  for i in intervals:\n",
        "    if i[0]>end:\n",
        "      res.append([start,end])\n",
        "      start,end=i[0],i[1]\n",
        "    else:\n",
        "      end=max(end,i[1])\n",
        "  res.append([start,end])\n",
        "  return res\n",
        "\n",
        "intervals=[[1,3],[2,6],[8,10],[15,18]]\n",
        "\n",
        "merge(intervals)\n",
        "  "
      ],
      "execution_count": null,
      "outputs": [
        {
          "output_type": "execute_result",
          "data": {
            "text/plain": [
              "[[1, 6], [8, 10], [15, 18]]"
            ]
          },
          "metadata": {
            "tags": []
          },
          "execution_count": 20
        }
      ]
    },
    {
      "cell_type": "code",
      "metadata": {
        "id": "sIqquYNgjl9o",
        "colab": {
          "base_uri": "https://localhost:8080/"
        },
        "outputId": "85207368-901a-487d-d8c4-381096030a3a"
      },
      "source": [
        "#40. Write a Code to check whether one string is a rotation of another\n",
        "\n",
        "def checkRotate(str1,str2):\n",
        "  n1=len(str1)\n",
        "  n2=len(str2)\n",
        "\n",
        "  temp=''\n",
        "\n",
        "  if n1!=n2:\n",
        "    return 0\n",
        "  \n",
        "  temp=str1+str2\n",
        "  if (temp.count(str2)> 0):\n",
        "        return 1\n",
        "  else:\n",
        "        return 0\n",
        "\n",
        "\n",
        "str1=input()\n",
        "str2=input()\n",
        "\n",
        "if(checkRotate(str1,str2)):\n",
        "  print(\"Yes\")\n",
        "else:\n",
        "  print(\"No\")\n"
      ],
      "execution_count": null,
      "outputs": [
        {
          "output_type": "stream",
          "text": [
            "acbd\n",
            "bdca\n",
            "Yes\n"
          ],
          "name": "stdout"
        }
      ]
    },
    {
      "cell_type": "code",
      "metadata": {
        "id": "QAmEBYcH0WVK",
        "colab": {
          "base_uri": "https://localhost:8080/"
        },
        "outputId": "3244e65f-2504-4726-ed7d-63f4978f8c9c"
      },
      "source": [
        "#41. Second greatest of 3 nos.\n",
        "#Method 1:\n",
        "lst=list(map(int,input().split()))\n",
        "\n",
        "maxi = max(lst[0],lst[1])\n",
        "secondmax=min(lst[0],lst[1])\n",
        "\n",
        "for i in range(2,len(lst)):\n",
        "  if(lst[i]>maxi):\n",
        "    secondmax=maxi\n",
        "    maxi=lst[i]\n",
        "  elif(lst[i]>secondmax and maxi !=lst[i]):\n",
        "    secondmax=lst[i]\n",
        "\n",
        "print(\"Second Largest no. \",secondmax)"
      ],
      "execution_count": null,
      "outputs": [
        {
          "output_type": "stream",
          "text": [
            "1 2 3\n",
            "Second Largest no.  2\n"
          ],
          "name": "stdout"
        }
      ]
    },
    {
      "cell_type": "code",
      "metadata": {
        "colab": {
          "base_uri": "https://localhost:8080/"
        },
        "id": "41c22sLi4d_4",
        "outputId": "cee469ae-21d8-4b2e-ff1d-e939887843b0"
      },
      "source": [
        "#Second Greatest of 3 nos.\n",
        "\n",
        "lst=list(map(int,input().split()))\n",
        "lst.sort()\n",
        "\n",
        "print(\"Second largest: \",lst[-2])\n"
      ],
      "execution_count": null,
      "outputs": [
        {
          "output_type": "stream",
          "text": [
            "4 12 30\n",
            "Second largest:  12\n"
          ],
          "name": "stdout"
        }
      ]
    },
    {
      "cell_type": "code",
      "metadata": {
        "colab": {
          "base_uri": "https://localhost:8080/"
        },
        "id": "rvhVKb5_5ZAr",
        "outputId": "a80ff241-7a35-4096-802c-d145406e02d9"
      },
      "source": [
        "#42. Circumference of a circle:\n",
        "\n",
        "rad=int(input())\n",
        "\n",
        "pi=3.14\n",
        "\n",
        "circum=2*pi*rad\n",
        "print(round(circum,3))"
      ],
      "execution_count": null,
      "outputs": [
        {
          "output_type": "stream",
          "text": [
            "7\n",
            "43.96\n"
          ],
          "name": "stdout"
        }
      ]
    },
    {
      "cell_type": "code",
      "metadata": {
        "colab": {
          "base_uri": "https://localhost:8080/"
        },
        "id": "gl5_yRHlspT3",
        "outputId": "131a7a4a-81f7-42ff-cc6b-e826a408d19e"
      },
      "source": [
        "#43. \n",
        "'''James has decided to take a break from his work. He makes a plan to visit India for a few days with his family.\n",
        " He knows a lot about India, and also about the various cities he could visit. He decides to write down all the cities on a paper.\n",
        " Let the number of cities be n. Now, he shows the list to his wife and asks her, the city/cities she wants to visit. \n",
        " He tells her that she can select any city/cities and any number of cities. The wife says, she needs a day to decide.\n",
        "\n",
        "After this, James calls his son and tells him all about the trip, and the list of cities. He gives him a task and asks him, the number of ways the city/cities can be chosen from the list, if the total number of cities written on the list is n. The cities are numbered from 1 to n. At least 1 city has to be selected.\n",
        "\n",
        "He now asks your help to find the answer for the question that was asked to him.\n",
        "The problem consists of a number of test cases.\n",
        "\n",
        "INPUT:\n",
        "The first line of input contains the number of test cases t.\n",
        "Then t lines follow, each contains a number n, the number of cities.\n",
        "\n",
        "OUTPUT:\n",
        "Output contains t lines; each line contains the answer for that test case. As the answer can be large, print the answer modulo 10^9+7\n",
        "\n",
        "CONSTRAINTS\n",
        "1<=t<=100000\n",
        "1<=n<=1012'''\n",
        "\n",
        "\n",
        "n=int(input())\n",
        "for _ in range(n):\n",
        "  n = int(input())\n",
        "  p = int(1e9+7)\n",
        "  print(pow(2,n,p)-1)\n",
        "\n",
        "\n",
        "\n",
        "\n"
      ],
      "execution_count": null,
      "outputs": [
        {
          "output_type": "stream",
          "text": [
            "2\n",
            "2\n",
            "3\n",
            "1\n",
            "1\n"
          ],
          "name": "stdout"
        }
      ]
    },
    {
      "cell_type": "code",
      "metadata": {
        "colab": {
          "base_uri": "https://localhost:8080/"
        },
        "id": "FbFwXK54ttNu",
        "outputId": "d277ac51-ac31-4cbd-f57a-b0b325ab2083"
      },
      "source": [
        "#44.\n",
        "'''Consider the below series :\n",
        "\n",
        "0,0,2,1,4,2,6,3,8,4,10,5,12,6,14,7,16,8\n",
        "This series is a mixture of 2 series all the odd terms in this series form even numbers in ascending order\n",
        "Every even terms is derived from the previous  term using the formula (x/2)\n",
        "Write a program to find the nth term in this series.\n",
        "\n",
        "The value n in a positive integer that should be read from STDIN the nth term that is calculated by the program should be written to STDOUT.\n",
        "Other than the value of the nth term no other characters /strings or message should be written to STDOUT.'''\n",
        "\n",
        "\n",
        "n = int(input('enter the number:'))\n",
        "\n",
        "a=0\n",
        "b=0\n",
        "\n",
        "for i in range(1,n+1):\n",
        "    if(i%2!=0):\n",
        "        a= a+2\n",
        "    else:\n",
        "        b= b+1\n",
        "\n",
        "if(n%2!=0):\n",
        "    print('{}'.format(a-2))\n",
        "else:\n",
        "    print('{}'.format(b-1))"
      ],
      "execution_count": null,
      "outputs": [
        {
          "output_type": "stream",
          "text": [
            "enter the number:5\n",
            "4\n"
          ],
          "name": "stdout"
        }
      ]
    },
    {
      "cell_type": "code",
      "metadata": {
        "colab": {
          "base_uri": "https://localhost:8080/"
        },
        "id": "jDQ4JX6_xdPv",
        "outputId": "43f38afc-b180-42ef-ccee-72b4a8ab6445"
      },
      "source": [
        "#45. Validate Paranthesis:\n",
        "\n",
        "def isValid(s: str) -> bool:\n",
        "        open_keys = [\"(\",\"[\",\"{\"]\n",
        "        ht = {\n",
        "            \"(\":\")\",\n",
        "            \"[\":\"]\",\n",
        "            \"{\":\"}\"\n",
        "        }\n",
        "        ans = []\n",
        "        for c in s:\n",
        "            if c in open_keys:\n",
        "                ans.append(c)\n",
        "            else:\n",
        "                if ans and c == ht[ans[-1]]:\n",
        "                    ans.pop()\n",
        "                else:\n",
        "                    return False\n",
        "        if not ans:\n",
        "            return True \n",
        "        else:\n",
        "            return False\n",
        "\n",
        "    \n",
        "\n",
        "print(isValid(input()))"
      ],
      "execution_count": null,
      "outputs": [
        {
          "output_type": "stream",
          "text": [
            "([])\n",
            "True\n"
          ],
          "name": "stdout"
        }
      ]
    },
    {
      "cell_type": "code",
      "metadata": {
        "id": "NaNZATUD761R",
        "colab": {
          "base_uri": "https://localhost:8080/"
        },
        "outputId": "65b68fd2-2014-46cd-c47e-01405cd9f597"
      },
      "source": [
        "#46. Roman to Integers:\n",
        "s='IV'\n",
        "hashmap = {'I': 1, 'V': 5, 'X': 10, 'L': 50, 'C': 100, 'D': 500, 'M': 1000}\n",
        "total, prev = 0, 0\n",
        "for i in s:\n",
        "    cur = hashmap[i]\n",
        "    if cur > prev:\n",
        "        total -= prev\n",
        "        total += cur - prev\n",
        "    else:\n",
        "        total += cur\n",
        "    prev = cur\n",
        "print(total) \n"
      ],
      "execution_count": null,
      "outputs": [
        {
          "output_type": "stream",
          "text": [
            "4\n"
          ],
          "name": "stdout"
        }
      ]
    },
    {
      "cell_type": "code",
      "metadata": {
        "id": "omL8wu35rm_K"
      },
      "source": [
        ""
      ],
      "execution_count": null,
      "outputs": []
    }
  ]
}